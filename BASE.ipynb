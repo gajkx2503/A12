{
 "cells": [
  {
   "cell_type": "code",
   "execution_count": 1,
   "metadata": {},
   "outputs": [],
   "source": [
    "import numpy as np\n",
    "import pandas as pd\n",
    "from sklearn.impute import SimpleImputer\n",
    "from sklearn.linear_model import LinearRegression\n",
    "from sklearn.model_selection import cross_val_score"
   ]
  },
  {
   "cell_type": "code",
   "execution_count": 2,
   "metadata": {},
   "outputs": [],
   "source": [
    "train = pd.read_csv(\"C:/Users/derri/Documents/UNIVERSITY OF ESSEX/Year 1/Team project challenge/House prices/train.csv\")\n",
    "test = pd.read_csv('C:/Users/derri/Documents/UNIVERSITY OF ESSEX/Year 1/Team project challenge/House prices/test.csv')"
   ]
  },
  {
   "cell_type": "code",
   "execution_count": 3,
   "metadata": {},
   "outputs": [],
   "source": [
    "train = train[train.GrLivArea < 4500]\n",
    "train.reset_index(drop=True, inplace=True)"
   ]
  },
  {
   "cell_type": "code",
   "execution_count": 4,
   "metadata": {},
   "outputs": [],
   "source": [
    "train_X = train.drop('SalePrice', axis=1)\n",
    "train_y = train.SalePrice\n",
    "test_X = test"
   ]
  },
  {
   "cell_type": "code",
   "execution_count": 6,
   "metadata": {},
   "outputs": [],
   "source": [
    "onehot_train_X = pd.get_dummies(train_X)\n",
    "onehot_test_X = pd.get_dummies(test_X)\n",
    "train_X, test_X = onehot_train_X.align(onehot_test_X, join='left', axis=1)"
   ]
  },
  {
   "cell_type": "code",
   "execution_count": 7,
   "metadata": {},
   "outputs": [],
   "source": [
    "train[\"SalePrice\"] = np.log1p(train[\"SalePrice\"])\n",
    "y = train.SalePrice.reset_index(drop=True)\n",
    "train_features = train.drop(['SalePrice'], axis=1)\n",
    "test_features = test"
   ]
  },
  {
   "cell_type": "code",
   "execution_count": 8,
   "metadata": {},
   "outputs": [],
   "source": [
    "#my_imputer = SimpleImputer()\n",
    "#train_X = my_imputer.fit_transform(train_X)\n",
    "#test_X = my_imputer.transform(test_X)\n",
    "\n",
    "# copy of datasets\n",
    "imputed_train_X = train_X.copy()\n",
    "imputed_test_X = test_X.copy()\n",
    "\n",
    "# coloums of what is being inputed\n",
    "missing_val = (col for col in train_X.columns \n",
    "                                 if train_X[col].isnull().any())\n",
    "for col in missing_val:\n",
    "    imputed_train_X[col + 'missing'] = imputed_train_X[col].isnull()\n",
    "    imputed_test_X[col + 'missing'] = imputed_test_X[col].isnull()\n",
    "\n",
    "# Imputation\n",
    "my_imputer = SimpleImputer()\n",
    "imputed_train_X = my_imputer.fit_transform(imputed_train_X)\n",
    "imputed_test_X = my_imputer.transform(imputed_test_X)"
   ]
  },
  {
   "cell_type": "code",
   "execution_count": 9,
   "metadata": {},
   "outputs": [
    {
     "name": "stdout",
     "output_type": "stream",
     "text": [
      "[0.8553753  0.90175022 0.87511658 0.89164747 0.86131566]\n"
     ]
    }
   ],
   "source": [
    "reg = LinearRegression()\n",
    "cv_scores = cross_val_score(reg, imputed_train_X, train_y, cv=5)\n",
    "print(cv_scores)"
   ]
  },
  {
   "cell_type": "code",
   "execution_count": 10,
   "metadata": {},
   "outputs": [],
   "source": [
    "reg = LinearRegression()\n",
    "reg.fit(imputed_train_X, train_y)\n",
    "predictions = reg.predict(imputed_test_X)"
   ]
  },
  {
   "cell_type": "code",
   "execution_count": 11,
   "metadata": {},
   "outputs": [],
   "source": [
    "my_submission = pd.DataFrame({'Id': test.Id, 'SalePrice':predictions})\n",
    "my_submission.to_csv('BASEsubmission.csv', index=False)"
   ]
  },
  {
   "cell_type": "code",
   "execution_count": null,
   "metadata": {},
   "outputs": [],
   "source": []
  }
 ],
 "metadata": {
  "kernelspec": {
   "display_name": "Python 3",
   "language": "python",
   "name": "python3"
  },
  "language_info": {
   "codemirror_mode": {
    "name": "ipython",
    "version": 3
   },
   "file_extension": ".py",
   "mimetype": "text/x-python",
   "name": "python",
   "nbconvert_exporter": "python",
   "pygments_lexer": "ipython3",
   "version": "3.6.3"
  }
 },
 "nbformat": 4,
 "nbformat_minor": 2
}
